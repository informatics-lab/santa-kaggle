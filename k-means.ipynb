{
 "cells": [
  {
   "cell_type": "code",
   "execution_count": 1,
   "metadata": {
    "collapsed": false
   },
   "outputs": [],
   "source": [
    "north_pole = (90,0)\n",
    "weight_limit = 1000\n",
    "sleigh_weight = 10"
   ]
  },
  {
   "cell_type": "code",
   "execution_count": 2,
   "metadata": {
    "collapsed": true
   },
   "outputs": [],
   "source": [
    "import pandas as pd\n",
    "import numpy as np\n",
    "from haversine import haversine\n",
    "from operator import itemgetter"
   ]
  },
  {
   "cell_type": "code",
   "execution_count": 3,
   "metadata": {
    "collapsed": true
   },
   "outputs": [],
   "source": [
    "def weighted_trip_length(stops, weights): \n",
    "    tuples = [tuple(x) for x in stops.values]\n",
    "    # adding the last trip back to north pole, with just the sleigh weight\n",
    "    tuples.append(north_pole)\n",
    "    weights.append(sleigh_weight)\n",
    "    \n",
    "    dist = 0.0\n",
    "    prev_stop = north_pole\n",
    "    prev_weight = sum(weights)\n",
    "    for i in range(len(tuples)):        \n",
    "        dist = dist + haversine(tuples[i], prev_stop) * prev_weight\n",
    "        prev_stop = tuples[i]   \n",
    "        prev_weight = prev_weight - weights[i]\n",
    "    return dist"
   ]
  },
  {
   "cell_type": "code",
   "execution_count": 4,
   "metadata": {
    "collapsed": true
   },
   "outputs": [],
   "source": [
    "def weighted_reindeer_weariness(all_trips):\n",
    "    uniq_trips = all_trips.TripId.unique()\n",
    "    \n",
    "    if any(all_trips.groupby('TripId').Weight.sum() > weight_limit):\n",
    "        raise Exception(\"One of the sleighs over weight limit!\")\n",
    " \n",
    "    dist = 0\n",
    "    for t in uniq_trips:\n",
    "        this_trip = all_trips[all_trips.TripId==t]\n",
    "        dist = dist + weighted_trip_length(this_trip[['Latitude','Longitude']], this_trip.Weight.tolist())\n",
    "    \n",
    "    return dist    "
   ]
  },
  {
   "cell_type": "code",
   "execution_count": 5,
   "metadata": {
    "collapsed": true
   },
   "outputs": [],
   "source": [
    "def get_worst_gift(trip):\n",
    "    gifts = trip['GiftId'].values\n",
    "    trip_wo_gifts = [trip.loc[trip['GiftId'] != gift] for gift in gifts]\n",
    "    weight_wo_gifts = [weighted_reindeer_weariness(t) for t in trip_wo_gifts]\n",
    "    return min(zip(gifts, weight_wo_gifts), key=itemgetter(1))[0]"
   ]
  },
  {
   "cell_type": "code",
   "execution_count": 6,
   "metadata": {
    "collapsed": true
   },
   "outputs": [],
   "source": [
    "def get_worst_gifts(all_trips):\n",
    "    uniq_trips = all_trips.TripId.unique()\n",
    "    return [get_worst_gift(all_trips[all_trips.TripId==t]) for t in uniq_trips]"
   ]
  },
  {
   "cell_type": "code",
   "execution_count": 7,
   "metadata": {
    "collapsed": true
   },
   "outputs": [],
   "source": [
    "gifts = pd.read_csv('./gifts.csv')\n",
    "sample_sub = pd.read_csv('./sample_submission.csv')"
   ]
  },
  {
   "cell_type": "code",
   "execution_count": 8,
   "metadata": {
    "collapsed": true
   },
   "outputs": [],
   "source": [
    "def wrw_for_two_trips(trips, trip1, trip2):\n",
    "    return weighted_reindeer_weariness(trips.loc[trips['TripId'].isin([trip1, trip2])])"
   ]
  },
  {
   "cell_type": "code",
   "execution_count": 9,
   "metadata": {
    "collapsed": true
   },
   "outputs": [],
   "source": [
    "def get_trip(index):\n",
    "    all_trips[all_trips.TripId==index]"
   ]
  },
  {
   "cell_type": "code",
   "execution_count": 10,
   "metadata": {
    "collapsed": true
   },
   "outputs": [],
   "source": [
    "def get_good_bad_trips(trips):\n",
    "    uniq_trip_names = trips.TripId.unique()\n",
    "    uniq_trips = [trips[trips.TripId==t] for t in uniq_trip_names]\n",
    "    bad_trips = [t for t in uniq_trips if not weights_low_enough(t)]\n",
    "    good_trips = [t for t in uniq_trips if weights_low_enough(t)]\n",
    "    return [good_trips, bad_trips]"
   ]
  },
  {
   "cell_type": "code",
   "execution_count": 11,
   "metadata": {
    "collapsed": true
   },
   "outputs": [],
   "source": [
    "def weights_low_enough(trips):\n",
    "    try:\n",
    "        weighted_reindeer_weariness(trips)\n",
    "        return True\n",
    "    except Exception:\n",
    "        return False"
   ]
  },
  {
   "cell_type": "code",
   "execution_count": 12,
   "metadata": {
    "collapsed": true
   },
   "outputs": [],
   "source": [
    "def halve(trip):\n",
    "    by_weight = trip.sort_values('Weight')\n",
    "    tripa = by_weight.iloc[::2]\n",
    "    tripb = by_weight.iloc[1::2]\n",
    "    return (tripa, tripb)"
   ]
  },
  {
   "cell_type": "code",
   "execution_count": 13,
   "metadata": {
    "collapsed": false
   },
   "outputs": [],
   "source": [
    "def divide(trip):\n",
    "    if weights_low_enough(trip):\n",
    "        return trip\n",
    "    else:\n",
    "        tripa, tripb = halve(trip)\n",
    "        orig_id = str(trip['TripId'].values[0])\n",
    "        tripa.loc[:, 'TripId'] = orig_id+'a'\n",
    "        tripb.loc[:, 'TripId'] = orig_id+'b'\n",
    "        return pd.concat([divide(tripa), divide(tripb)])"
   ]
  },
  {
   "cell_type": "code",
   "execution_count": 14,
   "metadata": {
    "collapsed": true
   },
   "outputs": [],
   "source": [
    "def shrink_clusters(trips):\n",
    "    good_trips, bad_trips = get_good_bad_trips(trips)\n",
    "    return pd.concat(good_trips + [divide(b) for b in bad_trips])"
   ]
  },
  {
   "cell_type": "code",
   "execution_count": 15,
   "metadata": {
    "collapsed": true
   },
   "outputs": [],
   "source": [
    "def cleanup(trips):\n",
    "    uniq_trip_names = trips.TripId.unique()\n",
    "    maxint = max([n for n in uniq_trip_names if type(n)==int])\n",
    "    string_names = [n for n in uniq_trip_names if type(n)==str]\n",
    "    new_int_names = [maxint + string_names.index(s) for s in string_names]\n",
    "    d_int_names = dict(zip(string_names, new_int_names))\n",
    "    \n",
    "    new_trips = trips.copy()\n",
    "    #new_trips.loc[new_trips.TripId.isin(string_names)].map()\n",
    "    new_trips.replace({\"TripId\": d_int_names}, inplace=True)\n",
    "    return new_trips"
   ]
  },
  {
   "cell_type": "code",
   "execution_count": null,
   "metadata": {
    "collapsed": true
   },
   "outputs": [],
   "source": []
  },
  {
   "cell_type": "code",
   "execution_count": 16,
   "metadata": {
    "collapsed": true
   },
   "outputs": [],
   "source": [
    "import sklearn.cluster"
   ]
  },
  {
   "cell_type": "code",
   "execution_count": 31,
   "metadata": {
    "collapsed": false
   },
   "outputs": [],
   "source": [
    "km = sklearn.cluster.KMeans(n_clusters=5000)"
   ]
  },
  {
   "cell_type": "code",
   "execution_count": 32,
   "metadata": {
    "collapsed": false
   },
   "outputs": [],
   "source": [
    "x = km.fit_predict(gifts[['Latitude', 'Longitude']].values)"
   ]
  },
  {
   "cell_type": "code",
   "execution_count": 33,
   "metadata": {
    "collapsed": false
   },
   "outputs": [
    {
     "data": {
      "text/plain": [
       "array([307, 752, 760, ..., 678, 316,  36], dtype=int32)"
      ]
     },
     "execution_count": 33,
     "metadata": {},
     "output_type": "execute_result"
    }
   ],
   "source": [
    "x"
   ]
  },
  {
   "cell_type": "code",
   "execution_count": 34,
   "metadata": {
    "collapsed": false
   },
   "outputs": [],
   "source": [
    "result = gifts.copy()"
   ]
  },
  {
   "cell_type": "code",
   "execution_count": 35,
   "metadata": {
    "collapsed": false
   },
   "outputs": [],
   "source": [
    "result['TripId'] = x"
   ]
  },
  {
   "cell_type": "code",
   "execution_count": 36,
   "metadata": {
    "collapsed": false
   },
   "outputs": [
    {
     "data": {
      "text/html": [
       "<div>\n",
       "<table border=\"1\" class=\"dataframe\">\n",
       "  <thead>\n",
       "    <tr style=\"text-align: right;\">\n",
       "      <th></th>\n",
       "      <th>GiftId</th>\n",
       "      <th>Latitude</th>\n",
       "      <th>Longitude</th>\n",
       "      <th>Weight</th>\n",
       "      <th>TripId</th>\n",
       "    </tr>\n",
       "  </thead>\n",
       "  <tbody>\n",
       "    <tr>\n",
       "      <th>0</th>\n",
       "      <td>1</td>\n",
       "      <td>16.345769</td>\n",
       "      <td>6.303545</td>\n",
       "      <td>1.000000</td>\n",
       "      <td>307</td>\n",
       "    </tr>\n",
       "    <tr>\n",
       "      <th>1</th>\n",
       "      <td>2</td>\n",
       "      <td>12.494749</td>\n",
       "      <td>28.626396</td>\n",
       "      <td>15.524480</td>\n",
       "      <td>752</td>\n",
       "    </tr>\n",
       "    <tr>\n",
       "      <th>2</th>\n",
       "      <td>3</td>\n",
       "      <td>27.794615</td>\n",
       "      <td>60.032495</td>\n",
       "      <td>8.058499</td>\n",
       "      <td>760</td>\n",
       "    </tr>\n",
       "    <tr>\n",
       "      <th>3</th>\n",
       "      <td>4</td>\n",
       "      <td>44.426992</td>\n",
       "      <td>110.114216</td>\n",
       "      <td>1.000000</td>\n",
       "      <td>865</td>\n",
       "    </tr>\n",
       "    <tr>\n",
       "      <th>4</th>\n",
       "      <td>5</td>\n",
       "      <td>-69.854088</td>\n",
       "      <td>87.946878</td>\n",
       "      <td>25.088892</td>\n",
       "      <td>356</td>\n",
       "    </tr>\n",
       "    <tr>\n",
       "      <th>5</th>\n",
       "      <td>6</td>\n",
       "      <td>53.567970</td>\n",
       "      <td>-71.359308</td>\n",
       "      <td>38.000151</td>\n",
       "      <td>959</td>\n",
       "    </tr>\n",
       "    <tr>\n",
       "      <th>6</th>\n",
       "      <td>7</td>\n",
       "      <td>12.902584</td>\n",
       "      <td>79.966949</td>\n",
       "      <td>44.206616</td>\n",
       "      <td>21</td>\n",
       "    </tr>\n",
       "    <tr>\n",
       "      <th>7</th>\n",
       "      <td>8</td>\n",
       "      <td>-6.291099</td>\n",
       "      <td>-64.891751</td>\n",
       "      <td>1.000000</td>\n",
       "      <td>756</td>\n",
       "    </tr>\n",
       "    <tr>\n",
       "      <th>8</th>\n",
       "      <td>9</td>\n",
       "      <td>-2.685316</td>\n",
       "      <td>111.089758</td>\n",
       "      <td>1.000000</td>\n",
       "      <td>688</td>\n",
       "    </tr>\n",
       "    <tr>\n",
       "      <th>9</th>\n",
       "      <td>10</td>\n",
       "      <td>38.428862</td>\n",
       "      <td>101.973671</td>\n",
       "      <td>35.701311</td>\n",
       "      <td>845</td>\n",
       "    </tr>\n",
       "    <tr>\n",
       "      <th>10</th>\n",
       "      <td>11</td>\n",
       "      <td>39.090143</td>\n",
       "      <td>72.618928</td>\n",
       "      <td>27.579921</td>\n",
       "      <td>610</td>\n",
       "    </tr>\n",
       "    <tr>\n",
       "      <th>11</th>\n",
       "      <td>12</td>\n",
       "      <td>-15.574934</td>\n",
       "      <td>39.557295</td>\n",
       "      <td>14.551974</td>\n",
       "      <td>62</td>\n",
       "    </tr>\n",
       "    <tr>\n",
       "      <th>12</th>\n",
       "      <td>13</td>\n",
       "      <td>73.189650</td>\n",
       "      <td>-106.604220</td>\n",
       "      <td>4.983562</td>\n",
       "      <td>453</td>\n",
       "    </tr>\n",
       "    <tr>\n",
       "      <th>13</th>\n",
       "      <td>14</td>\n",
       "      <td>57.068290</td>\n",
       "      <td>134.171051</td>\n",
       "      <td>23.655998</td>\n",
       "      <td>293</td>\n",
       "    </tr>\n",
       "    <tr>\n",
       "      <th>14</th>\n",
       "      <td>15</td>\n",
       "      <td>-68.884673</td>\n",
       "      <td>61.214391</td>\n",
       "      <td>1.000000</td>\n",
       "      <td>251</td>\n",
       "    </tr>\n",
       "    <tr>\n",
       "      <th>15</th>\n",
       "      <td>16</td>\n",
       "      <td>-40.740410</td>\n",
       "      <td>-63.952750</td>\n",
       "      <td>20.851765</td>\n",
       "      <td>489</td>\n",
       "    </tr>\n",
       "    <tr>\n",
       "      <th>16</th>\n",
       "      <td>17</td>\n",
       "      <td>-66.324391</td>\n",
       "      <td>-65.057116</td>\n",
       "      <td>1.000000</td>\n",
       "      <td>151</td>\n",
       "    </tr>\n",
       "    <tr>\n",
       "      <th>17</th>\n",
       "      <td>18</td>\n",
       "      <td>48.750631</td>\n",
       "      <td>-124.572001</td>\n",
       "      <td>6.884479</td>\n",
       "      <td>450</td>\n",
       "    </tr>\n",
       "    <tr>\n",
       "      <th>18</th>\n",
       "      <td>19</td>\n",
       "      <td>34.222105</td>\n",
       "      <td>-99.390863</td>\n",
       "      <td>45.808683</td>\n",
       "      <td>519</td>\n",
       "    </tr>\n",
       "    <tr>\n",
       "      <th>19</th>\n",
       "      <td>20</td>\n",
       "      <td>-73.083862</td>\n",
       "      <td>-74.417265</td>\n",
       "      <td>43.212220</td>\n",
       "      <td>822</td>\n",
       "    </tr>\n",
       "    <tr>\n",
       "      <th>20</th>\n",
       "      <td>21</td>\n",
       "      <td>18.671624</td>\n",
       "      <td>-95.710936</td>\n",
       "      <td>1.000000</td>\n",
       "      <td>534</td>\n",
       "    </tr>\n",
       "    <tr>\n",
       "      <th>21</th>\n",
       "      <td>22</td>\n",
       "      <td>47.362645</td>\n",
       "      <td>61.068307</td>\n",
       "      <td>27.113173</td>\n",
       "      <td>648</td>\n",
       "    </tr>\n",
       "    <tr>\n",
       "      <th>22</th>\n",
       "      <td>23</td>\n",
       "      <td>-21.282841</td>\n",
       "      <td>-64.994008</td>\n",
       "      <td>1.000000</td>\n",
       "      <td>737</td>\n",
       "    </tr>\n",
       "    <tr>\n",
       "      <th>23</th>\n",
       "      <td>24</td>\n",
       "      <td>36.403587</td>\n",
       "      <td>65.851373</td>\n",
       "      <td>1.000000</td>\n",
       "      <td>159</td>\n",
       "    </tr>\n",
       "    <tr>\n",
       "      <th>24</th>\n",
       "      <td>25</td>\n",
       "      <td>52.218524</td>\n",
       "      <td>10.265215</td>\n",
       "      <td>26.428845</td>\n",
       "      <td>309</td>\n",
       "    </tr>\n",
       "    <tr>\n",
       "      <th>25</th>\n",
       "      <td>26</td>\n",
       "      <td>18.366746</td>\n",
       "      <td>51.372955</td>\n",
       "      <td>38.394406</td>\n",
       "      <td>461</td>\n",
       "    </tr>\n",
       "    <tr>\n",
       "      <th>26</th>\n",
       "      <td>27</td>\n",
       "      <td>29.441427</td>\n",
       "      <td>86.275998</td>\n",
       "      <td>14.390330</td>\n",
       "      <td>518</td>\n",
       "    </tr>\n",
       "    <tr>\n",
       "      <th>27</th>\n",
       "      <td>28</td>\n",
       "      <td>76.333485</td>\n",
       "      <td>-38.239421</td>\n",
       "      <td>1.000000</td>\n",
       "      <td>749</td>\n",
       "    </tr>\n",
       "    <tr>\n",
       "      <th>28</th>\n",
       "      <td>29</td>\n",
       "      <td>65.071726</td>\n",
       "      <td>64.407896</td>\n",
       "      <td>4.642468</td>\n",
       "      <td>299</td>\n",
       "    </tr>\n",
       "    <tr>\n",
       "      <th>29</th>\n",
       "      <td>30</td>\n",
       "      <td>38.380660</td>\n",
       "      <td>42.637999</td>\n",
       "      <td>45.728474</td>\n",
       "      <td>45</td>\n",
       "    </tr>\n",
       "    <tr>\n",
       "      <th>...</th>\n",
       "      <td>...</td>\n",
       "      <td>...</td>\n",
       "      <td>...</td>\n",
       "      <td>...</td>\n",
       "      <td>...</td>\n",
       "    </tr>\n",
       "    <tr>\n",
       "      <th>99970</th>\n",
       "      <td>99971</td>\n",
       "      <td>-26.110779</td>\n",
       "      <td>15.870401</td>\n",
       "      <td>22.232866</td>\n",
       "      <td>318</td>\n",
       "    </tr>\n",
       "    <tr>\n",
       "      <th>99971</th>\n",
       "      <td>99972</td>\n",
       "      <td>20.082587</td>\n",
       "      <td>101.364586</td>\n",
       "      <td>11.696132</td>\n",
       "      <td>550</td>\n",
       "    </tr>\n",
       "    <tr>\n",
       "      <th>99972</th>\n",
       "      <td>99973</td>\n",
       "      <td>-24.905654</td>\n",
       "      <td>-59.243926</td>\n",
       "      <td>19.670695</td>\n",
       "      <td>548</td>\n",
       "    </tr>\n",
       "    <tr>\n",
       "      <th>99973</th>\n",
       "      <td>99974</td>\n",
       "      <td>27.107707</td>\n",
       "      <td>68.257036</td>\n",
       "      <td>12.297529</td>\n",
       "      <td>196</td>\n",
       "    </tr>\n",
       "    <tr>\n",
       "      <th>99974</th>\n",
       "      <td>99975</td>\n",
       "      <td>64.793127</td>\n",
       "      <td>-68.736360</td>\n",
       "      <td>11.849316</td>\n",
       "      <td>398</td>\n",
       "    </tr>\n",
       "    <tr>\n",
       "      <th>99975</th>\n",
       "      <td>99976</td>\n",
       "      <td>-75.740932</td>\n",
       "      <td>112.491198</td>\n",
       "      <td>40.830859</td>\n",
       "      <td>504</td>\n",
       "    </tr>\n",
       "    <tr>\n",
       "      <th>99976</th>\n",
       "      <td>99977</td>\n",
       "      <td>49.393290</td>\n",
       "      <td>106.203395</td>\n",
       "      <td>50.000000</td>\n",
       "      <td>367</td>\n",
       "    </tr>\n",
       "    <tr>\n",
       "      <th>99977</th>\n",
       "      <td>99978</td>\n",
       "      <td>47.206747</td>\n",
       "      <td>59.136044</td>\n",
       "      <td>1.000000</td>\n",
       "      <td>807</td>\n",
       "    </tr>\n",
       "    <tr>\n",
       "      <th>99978</th>\n",
       "      <td>99979</td>\n",
       "      <td>25.267279</td>\n",
       "      <td>34.703505</td>\n",
       "      <td>1.000000</td>\n",
       "      <td>794</td>\n",
       "    </tr>\n",
       "    <tr>\n",
       "      <th>99979</th>\n",
       "      <td>99980</td>\n",
       "      <td>-78.341787</td>\n",
       "      <td>159.792659</td>\n",
       "      <td>50.000000</td>\n",
       "      <td>137</td>\n",
       "    </tr>\n",
       "    <tr>\n",
       "      <th>99980</th>\n",
       "      <td>99981</td>\n",
       "      <td>44.725438</td>\n",
       "      <td>92.798354</td>\n",
       "      <td>18.136089</td>\n",
       "      <td>802</td>\n",
       "    </tr>\n",
       "    <tr>\n",
       "      <th>99981</th>\n",
       "      <td>99982</td>\n",
       "      <td>65.884333</td>\n",
       "      <td>128.885954</td>\n",
       "      <td>1.000000</td>\n",
       "      <td>750</td>\n",
       "    </tr>\n",
       "    <tr>\n",
       "      <th>99982</th>\n",
       "      <td>99983</td>\n",
       "      <td>46.923804</td>\n",
       "      <td>30.657460</td>\n",
       "      <td>1.000000</td>\n",
       "      <td>114</td>\n",
       "    </tr>\n",
       "    <tr>\n",
       "      <th>99983</th>\n",
       "      <td>99984</td>\n",
       "      <td>39.327327</td>\n",
       "      <td>-79.523378</td>\n",
       "      <td>1.000000</td>\n",
       "      <td>588</td>\n",
       "    </tr>\n",
       "    <tr>\n",
       "      <th>99984</th>\n",
       "      <td>99985</td>\n",
       "      <td>26.444028</td>\n",
       "      <td>62.141242</td>\n",
       "      <td>19.350007</td>\n",
       "      <td>469</td>\n",
       "    </tr>\n",
       "    <tr>\n",
       "      <th>99985</th>\n",
       "      <td>99986</td>\n",
       "      <td>53.607246</td>\n",
       "      <td>-127.001301</td>\n",
       "      <td>1.000000</td>\n",
       "      <td>531</td>\n",
       "    </tr>\n",
       "    <tr>\n",
       "      <th>99986</th>\n",
       "      <td>99987</td>\n",
       "      <td>37.682677</td>\n",
       "      <td>114.647376</td>\n",
       "      <td>28.689123</td>\n",
       "      <td>745</td>\n",
       "    </tr>\n",
       "    <tr>\n",
       "      <th>99987</th>\n",
       "      <td>99988</td>\n",
       "      <td>28.321648</td>\n",
       "      <td>-113.083080</td>\n",
       "      <td>27.702490</td>\n",
       "      <td>47</td>\n",
       "    </tr>\n",
       "    <tr>\n",
       "      <th>99988</th>\n",
       "      <td>99989</td>\n",
       "      <td>34.412558</td>\n",
       "      <td>109.522368</td>\n",
       "      <td>1.000000</td>\n",
       "      <td>827</td>\n",
       "    </tr>\n",
       "    <tr>\n",
       "      <th>99989</th>\n",
       "      <td>99990</td>\n",
       "      <td>57.684642</td>\n",
       "      <td>-94.381203</td>\n",
       "      <td>11.262914</td>\n",
       "      <td>903</td>\n",
       "    </tr>\n",
       "    <tr>\n",
       "      <th>99990</th>\n",
       "      <td>99991</td>\n",
       "      <td>-64.212773</td>\n",
       "      <td>-57.804296</td>\n",
       "      <td>8.145515</td>\n",
       "      <td>151</td>\n",
       "    </tr>\n",
       "    <tr>\n",
       "      <th>99991</th>\n",
       "      <td>99992</td>\n",
       "      <td>4.421695</td>\n",
       "      <td>-70.416937</td>\n",
       "      <td>1.000000</td>\n",
       "      <td>506</td>\n",
       "    </tr>\n",
       "    <tr>\n",
       "      <th>99992</th>\n",
       "      <td>99993</td>\n",
       "      <td>-2.649727</td>\n",
       "      <td>25.700444</td>\n",
       "      <td>18.437163</td>\n",
       "      <td>847</td>\n",
       "    </tr>\n",
       "    <tr>\n",
       "      <th>99993</th>\n",
       "      <td>99994</td>\n",
       "      <td>-28.853612</td>\n",
       "      <td>21.697044</td>\n",
       "      <td>22.694809</td>\n",
       "      <td>6</td>\n",
       "    </tr>\n",
       "    <tr>\n",
       "      <th>99994</th>\n",
       "      <td>99995</td>\n",
       "      <td>-88.126393</td>\n",
       "      <td>13.914852</td>\n",
       "      <td>3.002310</td>\n",
       "      <td>892</td>\n",
       "    </tr>\n",
       "    <tr>\n",
       "      <th>99995</th>\n",
       "      <td>99996</td>\n",
       "      <td>-86.087115</td>\n",
       "      <td>-19.991474</td>\n",
       "      <td>10.927676</td>\n",
       "      <td>353</td>\n",
       "    </tr>\n",
       "    <tr>\n",
       "      <th>99996</th>\n",
       "      <td>99997</td>\n",
       "      <td>40.259124</td>\n",
       "      <td>-110.689749</td>\n",
       "      <td>9.347134</td>\n",
       "      <td>330</td>\n",
       "    </tr>\n",
       "    <tr>\n",
       "      <th>99997</th>\n",
       "      <td>99998</td>\n",
       "      <td>42.393016</td>\n",
       "      <td>0.011825</td>\n",
       "      <td>1.000000</td>\n",
       "      <td>678</td>\n",
       "    </tr>\n",
       "    <tr>\n",
       "      <th>99998</th>\n",
       "      <td>99999</td>\n",
       "      <td>-75.919193</td>\n",
       "      <td>-10.193532</td>\n",
       "      <td>1.000000</td>\n",
       "      <td>316</td>\n",
       "    </tr>\n",
       "    <tr>\n",
       "      <th>99999</th>\n",
       "      <td>100000</td>\n",
       "      <td>11.106159</td>\n",
       "      <td>40.230236</td>\n",
       "      <td>1.000000</td>\n",
       "      <td>36</td>\n",
       "    </tr>\n",
       "  </tbody>\n",
       "</table>\n",
       "<p>100000 rows × 5 columns</p>\n",
       "</div>"
      ],
      "text/plain": [
       "       GiftId   Latitude   Longitude     Weight  TripId\n",
       "0           1  16.345769    6.303545   1.000000     307\n",
       "1           2  12.494749   28.626396  15.524480     752\n",
       "2           3  27.794615   60.032495   8.058499     760\n",
       "3           4  44.426992  110.114216   1.000000     865\n",
       "4           5 -69.854088   87.946878  25.088892     356\n",
       "5           6  53.567970  -71.359308  38.000151     959\n",
       "6           7  12.902584   79.966949  44.206616      21\n",
       "7           8  -6.291099  -64.891751   1.000000     756\n",
       "8           9  -2.685316  111.089758   1.000000     688\n",
       "9          10  38.428862  101.973671  35.701311     845\n",
       "10         11  39.090143   72.618928  27.579921     610\n",
       "11         12 -15.574934   39.557295  14.551974      62\n",
       "12         13  73.189650 -106.604220   4.983562     453\n",
       "13         14  57.068290  134.171051  23.655998     293\n",
       "14         15 -68.884673   61.214391   1.000000     251\n",
       "15         16 -40.740410  -63.952750  20.851765     489\n",
       "16         17 -66.324391  -65.057116   1.000000     151\n",
       "17         18  48.750631 -124.572001   6.884479     450\n",
       "18         19  34.222105  -99.390863  45.808683     519\n",
       "19         20 -73.083862  -74.417265  43.212220     822\n",
       "20         21  18.671624  -95.710936   1.000000     534\n",
       "21         22  47.362645   61.068307  27.113173     648\n",
       "22         23 -21.282841  -64.994008   1.000000     737\n",
       "23         24  36.403587   65.851373   1.000000     159\n",
       "24         25  52.218524   10.265215  26.428845     309\n",
       "25         26  18.366746   51.372955  38.394406     461\n",
       "26         27  29.441427   86.275998  14.390330     518\n",
       "27         28  76.333485  -38.239421   1.000000     749\n",
       "28         29  65.071726   64.407896   4.642468     299\n",
       "29         30  38.380660   42.637999  45.728474      45\n",
       "...       ...        ...         ...        ...     ...\n",
       "99970   99971 -26.110779   15.870401  22.232866     318\n",
       "99971   99972  20.082587  101.364586  11.696132     550\n",
       "99972   99973 -24.905654  -59.243926  19.670695     548\n",
       "99973   99974  27.107707   68.257036  12.297529     196\n",
       "99974   99975  64.793127  -68.736360  11.849316     398\n",
       "99975   99976 -75.740932  112.491198  40.830859     504\n",
       "99976   99977  49.393290  106.203395  50.000000     367\n",
       "99977   99978  47.206747   59.136044   1.000000     807\n",
       "99978   99979  25.267279   34.703505   1.000000     794\n",
       "99979   99980 -78.341787  159.792659  50.000000     137\n",
       "99980   99981  44.725438   92.798354  18.136089     802\n",
       "99981   99982  65.884333  128.885954   1.000000     750\n",
       "99982   99983  46.923804   30.657460   1.000000     114\n",
       "99983   99984  39.327327  -79.523378   1.000000     588\n",
       "99984   99985  26.444028   62.141242  19.350007     469\n",
       "99985   99986  53.607246 -127.001301   1.000000     531\n",
       "99986   99987  37.682677  114.647376  28.689123     745\n",
       "99987   99988  28.321648 -113.083080  27.702490      47\n",
       "99988   99989  34.412558  109.522368   1.000000     827\n",
       "99989   99990  57.684642  -94.381203  11.262914     903\n",
       "99990   99991 -64.212773  -57.804296   8.145515     151\n",
       "99991   99992   4.421695  -70.416937   1.000000     506\n",
       "99992   99993  -2.649727   25.700444  18.437163     847\n",
       "99993   99994 -28.853612   21.697044  22.694809       6\n",
       "99994   99995 -88.126393   13.914852   3.002310     892\n",
       "99995   99996 -86.087115  -19.991474  10.927676     353\n",
       "99996   99997  40.259124 -110.689749   9.347134     330\n",
       "99997   99998  42.393016    0.011825   1.000000     678\n",
       "99998   99999 -75.919193  -10.193532   1.000000     316\n",
       "99999  100000  11.106159   40.230236   1.000000      36\n",
       "\n",
       "[100000 rows x 5 columns]"
      ]
     },
     "execution_count": 36,
     "metadata": {},
     "output_type": "execute_result"
    }
   ],
   "source": [
    "result"
   ]
  },
  {
   "cell_type": "code",
   "execution_count": 37,
   "metadata": {
    "collapsed": false
   },
   "outputs": [
    {
     "ename": "Exception",
     "evalue": "One of the sleighs over weight limit!",
     "output_type": "error",
     "traceback": [
      "\u001b[0;31m---------------------------------------------------------------------------\u001b[0m",
      "\u001b[0;31mException\u001b[0m                                 Traceback (most recent call last)",
      "\u001b[0;32m<ipython-input-37-9ab5bcba2f45>\u001b[0m in \u001b[0;36m<module>\u001b[0;34m()\u001b[0m\n\u001b[0;32m----> 1\u001b[0;31m \u001b[0mweighted_reindeer_weariness\u001b[0m\u001b[0;34m(\u001b[0m\u001b[0mresult\u001b[0m\u001b[0;34m)\u001b[0m\u001b[0;34m\u001b[0m\u001b[0m\n\u001b[0m",
      "\u001b[0;32m<ipython-input-4-e7bfdc5f87a5>\u001b[0m in \u001b[0;36mweighted_reindeer_weariness\u001b[0;34m(all_trips)\u001b[0m\n\u001b[1;32m      3\u001b[0m \u001b[0;34m\u001b[0m\u001b[0m\n\u001b[1;32m      4\u001b[0m     \u001b[0;32mif\u001b[0m \u001b[0many\u001b[0m\u001b[0;34m(\u001b[0m\u001b[0mall_trips\u001b[0m\u001b[0;34m.\u001b[0m\u001b[0mgroupby\u001b[0m\u001b[0;34m(\u001b[0m\u001b[0;34m'TripId'\u001b[0m\u001b[0;34m)\u001b[0m\u001b[0;34m.\u001b[0m\u001b[0mWeight\u001b[0m\u001b[0;34m.\u001b[0m\u001b[0msum\u001b[0m\u001b[0;34m(\u001b[0m\u001b[0;34m)\u001b[0m \u001b[0;34m>\u001b[0m \u001b[0mweight_limit\u001b[0m\u001b[0;34m)\u001b[0m\u001b[0;34m:\u001b[0m\u001b[0;34m\u001b[0m\u001b[0m\n\u001b[0;32m----> 5\u001b[0;31m         \u001b[0;32mraise\u001b[0m \u001b[0mException\u001b[0m\u001b[0;34m(\u001b[0m\u001b[0;34m\"One of the sleighs over weight limit!\"\u001b[0m\u001b[0;34m)\u001b[0m\u001b[0;34m\u001b[0m\u001b[0m\n\u001b[0m\u001b[1;32m      6\u001b[0m \u001b[0;34m\u001b[0m\u001b[0m\n\u001b[1;32m      7\u001b[0m     \u001b[0mdist\u001b[0m \u001b[0;34m=\u001b[0m \u001b[0;36m0\u001b[0m\u001b[0;34m\u001b[0m\u001b[0m\n",
      "\u001b[0;31mException\u001b[0m: One of the sleighs over weight limit!"
     ]
    }
   ],
   "source": [
    "weighted_reindeer_weariness(result)"
   ]
  },
  {
   "cell_type": "code",
   "execution_count": 38,
   "metadata": {
    "collapsed": false
   },
   "outputs": [],
   "source": [
    "shrunk_result = shrink_clusters(result)"
   ]
  },
  {
   "cell_type": "code",
   "execution_count": 39,
   "metadata": {
    "collapsed": false
   },
   "outputs": [
    {
     "data": {
      "text/plain": [
       "24943495753.746822"
      ]
     },
     "execution_count": 39,
     "metadata": {},
     "output_type": "execute_result"
    }
   ],
   "source": [
    "weighted_reindeer_weariness(shrunk_result)"
   ]
  },
  {
   "cell_type": "code",
   "execution_count": null,
   "metadata": {
    "collapsed": true
   },
   "outputs": [],
   "source": []
  },
  {
   "cell_type": "code",
   "execution_count": null,
   "metadata": {
    "collapsed": true
   },
   "outputs": [],
   "source": []
  },
  {
   "cell_type": "code",
   "execution_count": 267,
   "metadata": {
    "collapsed": false
   },
   "outputs": [
    {
     "data": {
      "text/plain": [
       "4500"
      ]
     },
     "execution_count": 267,
     "metadata": {},
     "output_type": "execute_result"
    }
   ],
   "source": [
    "len(shrunk_result.TripId.unique())"
   ]
  },
  {
   "cell_type": "code",
   "execution_count": 268,
   "metadata": {
    "collapsed": false
   },
   "outputs": [
    {
     "ename": "ValueError",
     "evalue": "max() arg is an empty sequence",
     "output_type": "error",
     "traceback": [
      "\u001b[0;31m---------------------------------------------------------------------------\u001b[0m",
      "\u001b[0;31mValueError\u001b[0m                                Traceback (most recent call last)",
      "\u001b[0;32m<ipython-input-268-e3f7bb7797c5>\u001b[0m in \u001b[0;36m<module>\u001b[0;34m()\u001b[0m\n\u001b[0;32m----> 1\u001b[0;31m \u001b[0mclean_result\u001b[0m \u001b[0;34m=\u001b[0m \u001b[0mcleanup\u001b[0m\u001b[0;34m(\u001b[0m\u001b[0mshrunk_result\u001b[0m\u001b[0;34m)\u001b[0m\u001b[0;34m\u001b[0m\u001b[0m\n\u001b[0m",
      "\u001b[0;32m<ipython-input-221-edc894aafeab>\u001b[0m in \u001b[0;36mcleanup\u001b[0;34m(trips)\u001b[0m\n\u001b[1;32m      1\u001b[0m \u001b[0;32mdef\u001b[0m \u001b[0mcleanup\u001b[0m\u001b[0;34m(\u001b[0m\u001b[0mtrips\u001b[0m\u001b[0;34m)\u001b[0m\u001b[0;34m:\u001b[0m\u001b[0;34m\u001b[0m\u001b[0m\n\u001b[1;32m      2\u001b[0m     \u001b[0muniq_trip_names\u001b[0m \u001b[0;34m=\u001b[0m \u001b[0mtrips\u001b[0m\u001b[0;34m.\u001b[0m\u001b[0mTripId\u001b[0m\u001b[0;34m.\u001b[0m\u001b[0munique\u001b[0m\u001b[0;34m(\u001b[0m\u001b[0;34m)\u001b[0m\u001b[0;34m\u001b[0m\u001b[0m\n\u001b[0;32m----> 3\u001b[0;31m     \u001b[0mmaxint\u001b[0m \u001b[0;34m=\u001b[0m \u001b[0mmax\u001b[0m\u001b[0;34m(\u001b[0m\u001b[0;34m[\u001b[0m\u001b[0mn\u001b[0m \u001b[0;32mfor\u001b[0m \u001b[0mn\u001b[0m \u001b[0;32min\u001b[0m \u001b[0muniq_trip_names\u001b[0m \u001b[0;32mif\u001b[0m \u001b[0mtype\u001b[0m\u001b[0;34m(\u001b[0m\u001b[0mn\u001b[0m\u001b[0;34m)\u001b[0m\u001b[0;34m==\u001b[0m\u001b[0mint\u001b[0m\u001b[0;34m]\u001b[0m\u001b[0;34m)\u001b[0m\u001b[0;34m\u001b[0m\u001b[0m\n\u001b[0m\u001b[1;32m      4\u001b[0m     \u001b[0mstring_names\u001b[0m \u001b[0;34m=\u001b[0m \u001b[0;34m[\u001b[0m\u001b[0mn\u001b[0m \u001b[0;32mfor\u001b[0m \u001b[0mn\u001b[0m \u001b[0;32min\u001b[0m \u001b[0muniq_trip_names\u001b[0m \u001b[0;32mif\u001b[0m \u001b[0mtype\u001b[0m\u001b[0;34m(\u001b[0m\u001b[0mn\u001b[0m\u001b[0;34m)\u001b[0m\u001b[0;34m==\u001b[0m\u001b[0mstr\u001b[0m\u001b[0;34m]\u001b[0m\u001b[0;34m\u001b[0m\u001b[0m\n\u001b[1;32m      5\u001b[0m     \u001b[0mnew_int_names\u001b[0m \u001b[0;34m=\u001b[0m \u001b[0;34m[\u001b[0m\u001b[0mmaxint\u001b[0m \u001b[0;34m+\u001b[0m \u001b[0mstring_names\u001b[0m\u001b[0;34m.\u001b[0m\u001b[0mindex\u001b[0m\u001b[0;34m(\u001b[0m\u001b[0ms\u001b[0m\u001b[0;34m)\u001b[0m \u001b[0;32mfor\u001b[0m \u001b[0ms\u001b[0m \u001b[0;32min\u001b[0m \u001b[0mstring_names\u001b[0m\u001b[0;34m]\u001b[0m\u001b[0;34m\u001b[0m\u001b[0m\n",
      "\u001b[0;31mValueError\u001b[0m: max() arg is an empty sequence"
     ]
    }
   ],
   "source": [
    "clean_result = cleanup(shrunk_result)"
   ]
  },
  {
   "cell_type": "code",
   "execution_count": null,
   "metadata": {
    "collapsed": true
   },
   "outputs": [],
   "source": []
  },
  {
   "cell_type": "code",
   "execution_count": 277,
   "metadata": {
    "collapsed": true
   },
   "outputs": [],
   "source": [
    "result.drop(['Longitude', 'Latitude', \"Weight\"], 1).set_index('GiftId').to_csv('sub9(146e8).csv')"
   ]
  },
  {
   "cell_type": "code",
   "execution_count": null,
   "metadata": {
    "collapsed": true
   },
   "outputs": [],
   "source": []
  }
 ],
 "metadata": {
  "kernelspec": {
   "display_name": "Python 2",
   "language": "python",
   "name": "python2"
  },
  "language_info": {
   "codemirror_mode": {
    "name": "ipython",
    "version": 2
   },
   "file_extension": ".py",
   "mimetype": "text/x-python",
   "name": "python",
   "nbconvert_exporter": "python",
   "pygments_lexer": "ipython2",
   "version": "2.7.10"
  }
 },
 "nbformat": 4,
 "nbformat_minor": 0
}
